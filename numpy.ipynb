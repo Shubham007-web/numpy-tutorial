{
 "cells": [
  {
   "cell_type": "markdown",
   "metadata": {
    "id": "nM6CjHV5HIRW"
   },
   "source": [
    "# **Numpy**\n",
    "It is python library and has following features:\n",
    "- It provied efficent storage.\n",
    "- It take less time to operate.\n",
    "- It is easy to use."
   ]
  },
  {
   "cell_type": "code",
   "execution_count": 1,
   "metadata": {
    "colab": {
     "base_uri": "https://localhost:8080/"
    },
    "id": "MoECchmUG-ew",
    "outputId": "068f2641-7716-4b78-cb5d-627396c0605c"
   },
   "outputs": [
    {
     "name": "stdout",
     "output_type": "stream",
     "text": [
      "The list occupied the space : 280 Bytes\n",
      "The array occupied the space : 80 Bytes\n"
     ]
    }
   ],
   "source": [
    "# takes less momory\n",
    "import sys\n",
    "import numpy as np\n",
    "\n",
    "lst = [1,2,3,4,5,6,7,8,9,10]\n",
    "a = np.array(lst)\n",
    "\n",
    "print(f\"The list occupied the space : {sys.getsizeof(5) * 10} Bytes\")\n",
    "\n",
    "print(f\"The array occupied the space : {a.itemsize * 10} Bytes\")"
   ]
  },
  {
   "cell_type": "code",
   "execution_count": 2,
   "metadata": {
    "colab": {
     "base_uri": "https://localhost:8080/"
    },
    "id": "Qz8GbRzsHvD-",
    "outputId": "6936720c-ac2c-42cd-c310-03406feb8ad4"
   },
   "outputs": [
    {
     "data": {
      "text/plain": [
       "[5, 10, 15, 20, 25, 30, 35, 40, 45, 50]"
      ]
     },
     "execution_count": 2,
     "metadata": {},
     "output_type": "execute_result"
    }
   ],
   "source": [
    " # numpy is to use\n",
    "[x*5 for x in  lst ]"
   ]
  },
  {
   "cell_type": "code",
   "execution_count": 3,
   "metadata": {
    "colab": {
     "base_uri": "https://localhost:8080/"
    },
    "id": "TefIGOdkIycX",
    "outputId": "58d1579f-3316-4198-9971-c41459c9cf8e"
   },
   "outputs": [
    {
     "data": {
      "text/plain": [
       "array([ 5, 10, 15, 20, 25, 30, 35, 40, 45, 50])"
      ]
     },
     "execution_count": 3,
     "metadata": {},
     "output_type": "execute_result"
    }
   ],
   "source": [
    "a * 5"
   ]
  },
  {
   "cell_type": "code",
   "execution_count": 4,
   "metadata": {
    "colab": {
     "base_uri": "https://localhost:8080/"
    },
    "id": "9kDW3lWRI-5X",
    "outputId": "46730589-c299-4c82-c881-5bc91ce73a77"
   },
   "outputs": [
    {
     "name": "stdout",
     "output_type": "stream",
     "text": [
      "The time taken to operate with lists : 137.24 ms\n",
      "The time taken to operate with arrays : 3.23 ms\n"
     ]
    }
   ],
   "source": [
    "# numpy takes less to oprate\n",
    "\n",
    "import time\n",
    "\n",
    "lst1 = list(range(1000000))\n",
    "lst2 = list(range(1000000))\n",
    "a1 = np.arange(1000000)\n",
    "a2 = np.arange(1000000)\n",
    "\n",
    "# list operation\n",
    "t1 = time.time()\n",
    "[x*y for x,y in zip(lst1, lst2)]\n",
    "t2 = time.time()\n",
    "\n",
    "dt1 = t2 -t1\n",
    "\n",
    "# array operation\n",
    "t3 = time.time()\n",
    "a1 * a2\n",
    "t4 = time.time()\n",
    "\n",
    "dt2 = t4 - t3\n",
    "\n",
    "print(f\"The time taken to operate with lists : {round(dt1 * 1000,2)} ms\" )\n",
    "print(f\"The time taken to operate with arrays : {round(dt2 * 1000,2)} ms\" )"
   ]
  },
  {
   "cell_type": "markdown",
   "metadata": {
    "id": "Fxti6Ue0Ojyb"
   },
   "source": [
    "**Creating a array**"
   ]
  },
  {
   "cell_type": "code",
   "execution_count": 5,
   "metadata": {
    "colab": {
     "base_uri": "https://localhost:8080/"
    },
    "id": "5kBr9XRnJTFq",
    "outputId": "176cfadd-5fcc-491e-f660-ed97957ccaac"
   },
   "outputs": [
    {
     "data": {
      "text/plain": [
       "array([2, 3, 7, 2])"
      ]
     },
     "execution_count": 5,
     "metadata": {},
     "output_type": "execute_result"
    }
   ],
   "source": [
    "# array()\n",
    "np.array([2,3,7,2])"
   ]
  },
  {
   "cell_type": "code",
   "execution_count": 6,
   "metadata": {
    "colab": {
     "base_uri": "https://localhost:8080/"
    },
    "id": "bxYGmzkJOtoG",
    "outputId": "4f74d0d4-7a18-4bc5-a6af-776fbe04fc43"
   },
   "outputs": [
    {
     "data": {
      "text/plain": [
       "array([ 1,  4,  7, 10, 13])"
      ]
     },
     "execution_count": 6,
     "metadata": {},
     "output_type": "execute_result"
    }
   ],
   "source": [
    "# arange()\n",
    "np.arange(1,15,3)"
   ]
  },
  {
   "cell_type": "code",
   "execution_count": 7,
   "metadata": {
    "colab": {
     "base_uri": "https://localhost:8080/"
    },
    "id": "huuXTvvUOyZV",
    "outputId": "42c79fcf-98ac-42fb-e00b-0d765dc0616a"
   },
   "outputs": [
    {
     "data": {
      "text/plain": [
       "array([[0., 0., 0., 0.],\n",
       "       [0., 0., 0., 0.],\n",
       "       [0., 0., 0., 0.],\n",
       "       [0., 0., 0., 0.]])"
      ]
     },
     "execution_count": 7,
     "metadata": {},
     "output_type": "execute_result"
    }
   ],
   "source": [
    "# zeros\n",
    "np.zeros((4,4))"
   ]
  },
  {
   "cell_type": "code",
   "execution_count": 8,
   "metadata": {
    "colab": {
     "base_uri": "https://localhost:8080/"
    },
    "id": "CPoUZ0KgPBAo",
    "outputId": "02b3b198-0931-4c6f-c588-c9499bce5ea1"
   },
   "outputs": [
    {
     "data": {
      "text/plain": [
       "array([[1., 1., 1.],\n",
       "       [1., 1., 1.],\n",
       "       [1., 1., 1.],\n",
       "       [1., 1., 1.]])"
      ]
     },
     "execution_count": 8,
     "metadata": {},
     "output_type": "execute_result"
    }
   ],
   "source": [
    "# ones\n",
    "np.ones((4,3))"
   ]
  },
  {
   "cell_type": "code",
   "execution_count": 9,
   "metadata": {
    "colab": {
     "base_uri": "https://localhost:8080/"
    },
    "id": "D3MJ3jxHPOix",
    "outputId": "80262cea-23eb-427f-9ae7-c0f3714b8f2f"
   },
   "outputs": [
    {
     "data": {
      "text/plain": [
       "array([[1, 0, 0],\n",
       "       [0, 5, 0],\n",
       "       [0, 0, 9]])"
      ]
     },
     "execution_count": 9,
     "metadata": {},
     "output_type": "execute_result"
    }
   ],
   "source": [
    "# diag\n",
    "np.diag([1,5,9])"
   ]
  },
  {
   "cell_type": "code",
   "execution_count": 10,
   "metadata": {
    "colab": {
     "base_uri": "https://localhost:8080/"
    },
    "id": "HDz3X9-hPnO5",
    "outputId": "961636dc-62d0-4c5b-c3ce-17f39c31b2e1"
   },
   "outputs": [
    {
     "data": {
      "text/plain": [
       "array([[1., 1., 1.],\n",
       "       [1., 1., 1.],\n",
       "       [1., 1., 1.],\n",
       "       [1., 1., 1.]])"
      ]
     },
     "execution_count": 10,
     "metadata": {},
     "output_type": "execute_result"
    }
   ],
   "source": [
    "# empty\n",
    "np.empty((4,3))"
   ]
  },
  {
   "cell_type": "code",
   "execution_count": 11,
   "metadata": {
    "colab": {
     "base_uri": "https://localhost:8080/"
    },
    "id": "ZZUXZFRKPxrE",
    "outputId": "1de139fc-0683-42ab-fd15-cb916741601a"
   },
   "outputs": [
    {
     "data": {
      "text/plain": [
       "array([[1., 0., 0.],\n",
       "       [0., 1., 0.],\n",
       "       [0., 0., 1.]])"
      ]
     },
     "execution_count": 11,
     "metadata": {},
     "output_type": "execute_result"
    }
   ],
   "source": [
    "# identity\n",
    "np.identity(3)"
   ]
  },
  {
   "cell_type": "code",
   "execution_count": 12,
   "metadata": {
    "colab": {
     "base_uri": "https://localhost:8080/"
    },
    "id": "grcdy_IyP8hC",
    "outputId": "c391f273-9943-4dfe-eb7d-c1bd5634f707"
   },
   "outputs": [
    {
     "data": {
      "text/plain": [
       "array([ 1.  ,  3.25,  5.5 ,  7.75, 10.  ])"
      ]
     },
     "execution_count": 12,
     "metadata": {},
     "output_type": "execute_result"
    }
   ],
   "source": [
    "# linspace\n",
    "np.linspace(1,10, 5)"
   ]
  },
  {
   "cell_type": "code",
   "execution_count": 13,
   "metadata": {
    "colab": {
     "base_uri": "https://localhost:8080/"
    },
    "id": "sbRpreYaQHef",
    "outputId": "083a48cc-b94c-4679-bd41-02b27dd4ef10"
   },
   "outputs": [
    {
     "data": {
      "text/plain": [
       "array([1.e+00, 1.e+01, 1.e+02, 1.e+03, 1.e+04])"
      ]
     },
     "execution_count": 13,
     "metadata": {},
     "output_type": "execute_result"
    }
   ],
   "source": [
    "# logspace\n",
    "np.logspace(0,4,5)"
   ]
  },
  {
   "cell_type": "markdown",
   "metadata": {
    "id": "p5O1t8wzT_Em"
   },
   "source": [
    "**Attributes of array**"
   ]
  },
  {
   "cell_type": "code",
   "execution_count": 14,
   "metadata": {
    "colab": {
     "base_uri": "https://localhost:8080/"
    },
    "id": "O2_ZKrsPQajR",
    "outputId": "680865db-d099-4ffe-c7d3-1bb1e6e7e033"
   },
   "outputs": [
    {
     "data": {
      "text/plain": [
       "array([0, 1, 2, 3, 4, 5])"
      ]
     },
     "execution_count": 14,
     "metadata": {},
     "output_type": "execute_result"
    }
   ],
   "source": [
    "a = np.arange(6)\n",
    "b = np.identity(3)\n",
    "a"
   ]
  },
  {
   "cell_type": "code",
   "execution_count": 15,
   "metadata": {
    "colab": {
     "base_uri": "https://localhost:8080/"
    },
    "id": "cfc529LWUJYE",
    "outputId": "a0f1b884-e808-426e-a734-b317986fbd35"
   },
   "outputs": [
    {
     "data": {
      "text/plain": [
       "array([[1., 0., 0.],\n",
       "       [0., 1., 0.],\n",
       "       [0., 0., 1.]])"
      ]
     },
     "execution_count": 15,
     "metadata": {},
     "output_type": "execute_result"
    }
   ],
   "source": [
    "b"
   ]
  },
  {
   "cell_type": "code",
   "execution_count": 16,
   "metadata": {
    "colab": {
     "base_uri": "https://localhost:8080/"
    },
    "id": "jbx5ZPewUKx9",
    "outputId": "95031bc3-fb9e-420c-8c08-e3cf458c4e4d"
   },
   "outputs": [
    {
     "name": "stdout",
     "output_type": "stream",
     "text": [
      "1 2\n"
     ]
    }
   ],
   "source": [
    "# ndim\n",
    "print(a.ndim, b.ndim)"
   ]
  },
  {
   "cell_type": "code",
   "execution_count": 17,
   "metadata": {
    "colab": {
     "base_uri": "https://localhost:8080/"
    },
    "id": "r8geOUUlUOBT",
    "outputId": "8667fa1d-77f9-4c4f-8ccb-dbdf7301fa89"
   },
   "outputs": [
    {
     "data": {
      "text/plain": [
       "(6,)"
      ]
     },
     "execution_count": 17,
     "metadata": {},
     "output_type": "execute_result"
    }
   ],
   "source": [
    "# shape\n",
    "a.shape"
   ]
  },
  {
   "cell_type": "code",
   "execution_count": 18,
   "metadata": {
    "colab": {
     "base_uri": "https://localhost:8080/"
    },
    "id": "2208HMTRUWz6",
    "outputId": "6df3df87-2632-4c3a-fc5c-93a0a6b184d6"
   },
   "outputs": [
    {
     "data": {
      "text/plain": [
       "(3, 3)"
      ]
     },
     "execution_count": 18,
     "metadata": {},
     "output_type": "execute_result"
    }
   ],
   "source": [
    "b.shape"
   ]
  },
  {
   "cell_type": "code",
   "execution_count": 19,
   "metadata": {
    "colab": {
     "base_uri": "https://localhost:8080/"
    },
    "id": "NBJS5bEFUYWE",
    "outputId": "09680b42-7fce-4845-e666-85c4c39271bf"
   },
   "outputs": [
    {
     "data": {
      "text/plain": [
       "6"
      ]
     },
     "execution_count": 19,
     "metadata": {},
     "output_type": "execute_result"
    }
   ],
   "source": [
    "# size\n",
    "a.size"
   ]
  },
  {
   "cell_type": "code",
   "execution_count": 20,
   "metadata": {
    "colab": {
     "base_uri": "https://localhost:8080/"
    },
    "id": "fPrEaJ0qUaWp",
    "outputId": "7fa6f6af-63b9-42d3-94ec-1e2757071183"
   },
   "outputs": [
    {
     "data": {
      "text/plain": [
       "9"
      ]
     },
     "execution_count": 20,
     "metadata": {},
     "output_type": "execute_result"
    }
   ],
   "source": [
    "b.size"
   ]
  },
  {
   "cell_type": "code",
   "execution_count": 21,
   "metadata": {
    "colab": {
     "base_uri": "https://localhost:8080/"
    },
    "id": "_bLqEImDUcPt",
    "outputId": "a24a8a0c-7295-4edd-d408-b11b945908ad"
   },
   "outputs": [
    {
     "data": {
      "text/plain": [
       "8"
      ]
     },
     "execution_count": 21,
     "metadata": {},
     "output_type": "execute_result"
    }
   ],
   "source": [
    "# itemsize\n",
    "a.itemsize"
   ]
  },
  {
   "cell_type": "code",
   "execution_count": 22,
   "metadata": {
    "colab": {
     "base_uri": "https://localhost:8080/"
    },
    "id": "LXVTaCEZUgRH",
    "outputId": "945207dc-6a86-4c12-8d70-4f0b6d32efd6"
   },
   "outputs": [
    {
     "data": {
      "text/plain": [
       "8"
      ]
     },
     "execution_count": 22,
     "metadata": {},
     "output_type": "execute_result"
    }
   ],
   "source": [
    "b.itemsize"
   ]
  },
  {
   "cell_type": "code",
   "execution_count": 23,
   "metadata": {
    "colab": {
     "base_uri": "https://localhost:8080/"
    },
    "id": "SiYP-ER7UjS9",
    "outputId": "8a300141-11ce-495d-b347-6dfcbfa15c39"
   },
   "outputs": [
    {
     "data": {
      "text/plain": [
       "dtype('int64')"
      ]
     },
     "execution_count": 23,
     "metadata": {},
     "output_type": "execute_result"
    }
   ],
   "source": [
    "# dtype\n",
    "a.dtype"
   ]
  },
  {
   "cell_type": "code",
   "execution_count": 24,
   "metadata": {
    "colab": {
     "base_uri": "https://localhost:8080/"
    },
    "id": "DR-MkcDHUpfZ",
    "outputId": "ecec91a2-1f00-42d7-c60e-421841540cb2"
   },
   "outputs": [
    {
     "data": {
      "text/plain": [
       "48"
      ]
     },
     "execution_count": 24,
     "metadata": {},
     "output_type": "execute_result"
    }
   ],
   "source": [
    "# nbytes\n",
    "a.nbytes"
   ]
  },
  {
   "cell_type": "code",
   "execution_count": 25,
   "metadata": {
    "colab": {
     "base_uri": "https://localhost:8080/"
    },
    "id": "OnVuVNXyUyD1",
    "outputId": "56bb009b-b2a6-4be3-d0f8-28797d032b8d"
   },
   "outputs": [
    {
     "data": {
      "text/plain": [
       "72"
      ]
     },
     "execution_count": 25,
     "metadata": {},
     "output_type": "execute_result"
    }
   ],
   "source": [
    "b.nbytes"
   ]
  },
  {
   "cell_type": "markdown",
   "metadata": {
    "id": "7aPmTx_IwMrx"
   },
   "source": [
    "**Indexing & Slicing**\n",
    "- Indexing & Slicing is the same like list."
   ]
  },
  {
   "cell_type": "code",
   "execution_count": 26,
   "metadata": {
    "colab": {
     "base_uri": "https://localhost:8080/"
    },
    "id": "3mub_FlrU0LR",
    "outputId": "106a6491-9305-456a-edcb-520c9e152937"
   },
   "outputs": [
    {
     "data": {
      "text/plain": [
       "array([[1, 5, 6],\n",
       "       [2, 5, 8],\n",
       "       [1, 4, 7],\n",
       "       [7, 4, 3]])"
      ]
     },
     "execution_count": 26,
     "metadata": {},
     "output_type": "execute_result"
    }
   ],
   "source": [
    "a = np.array([2,5,9,3,4,6,1])\n",
    "b = np.array([[1,5,6],[2,5,8],[1,4,7],[7,4,3]])\n",
    "b"
   ]
  },
  {
   "cell_type": "code",
   "execution_count": 27,
   "metadata": {
    "colab": {
     "base_uri": "https://localhost:8080/"
    },
    "id": "GTtucumr0uzQ",
    "outputId": "0ebcdea8-d208-46b8-e448-372219e920a7"
   },
   "outputs": [
    {
     "data": {
      "text/plain": [
       "(4, 3)"
      ]
     },
     "execution_count": 27,
     "metadata": {},
     "output_type": "execute_result"
    }
   ],
   "source": [
    "b.shape"
   ]
  },
  {
   "cell_type": "code",
   "execution_count": 28,
   "metadata": {
    "colab": {
     "base_uri": "https://localhost:8080/"
    },
    "id": "yd3X3Irk1Jnu",
    "outputId": "250c4b95-14fa-4654-dbb2-e0c16bc767d0"
   },
   "outputs": [
    {
     "data": {
      "text/plain": [
       "(7,)"
      ]
     },
     "execution_count": 28,
     "metadata": {},
     "output_type": "execute_result"
    }
   ],
   "source": [
    "a.shape"
   ]
  },
  {
   "cell_type": "code",
   "execution_count": 29,
   "metadata": {
    "colab": {
     "base_uri": "https://localhost:8080/"
    },
    "id": "SQpnShWa4luL",
    "outputId": "74d3d6c4-1bae-4e88-9e0f-cae073e57209"
   },
   "outputs": [
    {
     "data": {
      "text/plain": [
       "9"
      ]
     },
     "execution_count": 29,
     "metadata": {},
     "output_type": "execute_result"
    }
   ],
   "source": [
    "# indexing 1 d\n",
    "a[-5]"
   ]
  },
  {
   "cell_type": "code",
   "execution_count": 30,
   "metadata": {
    "colab": {
     "base_uri": "https://localhost:8080/"
    },
    "id": "5uNu_iRy42Bx",
    "outputId": "9751c649-f931-46f0-ff52-116c3ac06d6f"
   },
   "outputs": [
    {
     "data": {
      "text/plain": [
       "8"
      ]
     },
     "execution_count": 30,
     "metadata": {},
     "output_type": "execute_result"
    }
   ],
   "source": [
    "# indexing in 2d\n",
    "b[1,2]"
   ]
  },
  {
   "cell_type": "code",
   "execution_count": 31,
   "metadata": {
    "colab": {
     "base_uri": "https://localhost:8080/"
    },
    "id": "OH5ZxlVt5E4u",
    "outputId": "be633231-4ce2-4764-d8db-69ad29c08506"
   },
   "outputs": [
    {
     "data": {
      "text/plain": [
       "array([2, 5, 9, 3, 4, 6, 1])"
      ]
     },
     "execution_count": 31,
     "metadata": {},
     "output_type": "execute_result"
    }
   ],
   "source": [
    "# slicing\n",
    "a[:]"
   ]
  },
  {
   "cell_type": "code",
   "execution_count": 32,
   "metadata": {
    "colab": {
     "base_uri": "https://localhost:8080/"
    },
    "id": "9o39TREq5XzK",
    "outputId": "a15cf731-65d4-4d45-d9f3-37bf56656125"
   },
   "outputs": [
    {
     "data": {
      "text/plain": [
       "array([9, 3, 4, 6, 1])"
      ]
     },
     "execution_count": 32,
     "metadata": {},
     "output_type": "execute_result"
    }
   ],
   "source": [
    "a[2:]"
   ]
  },
  {
   "cell_type": "code",
   "execution_count": 33,
   "metadata": {
    "colab": {
     "base_uri": "https://localhost:8080/"
    },
    "id": "BRPvuMW26D7Z",
    "outputId": "a69d1b7e-619c-4685-d036-22f2de49e709"
   },
   "outputs": [
    {
     "data": {
      "text/plain": [
       "array([2, 5])"
      ]
     },
     "execution_count": 33,
     "metadata": {},
     "output_type": "execute_result"
    }
   ],
   "source": [
    "a[:2]"
   ]
  },
  {
   "cell_type": "code",
   "execution_count": 34,
   "metadata": {
    "colab": {
     "base_uri": "https://localhost:8080/"
    },
    "id": "J2Yzi2E-6PyJ",
    "outputId": "f042b44b-0b84-477d-daf0-ce92df351880"
   },
   "outputs": [
    {
     "data": {
      "text/plain": [
       "array([9, 4])"
      ]
     },
     "execution_count": 34,
     "metadata": {},
     "output_type": "execute_result"
    }
   ],
   "source": [
    "a[2:6:2]"
   ]
  },
  {
   "cell_type": "code",
   "execution_count": 35,
   "metadata": {
    "colab": {
     "base_uri": "https://localhost:8080/"
    },
    "id": "SIkaPWjt6V0W",
    "outputId": "24b27563-eb8b-495a-922e-75d3daa66cc6"
   },
   "outputs": [
    {
     "data": {
      "text/plain": [
       "array([[5, 6],\n",
       "       [5, 8]])"
      ]
     },
     "execution_count": 35,
     "metadata": {},
     "output_type": "execute_result"
    }
   ],
   "source": [
    "b[:2,1:]"
   ]
  },
  {
   "cell_type": "markdown",
   "metadata": {
    "id": "XXYXvGAH1_74"
   },
   "source": [
    "**Reshaping a array**\n",
    "- reshape(row,colum) (2D)\n",
    "- reshape(depth, row, column) (3D)\n",
    "- faltten()\n",
    "- ravel()"
   ]
  },
  {
   "cell_type": "code",
   "execution_count": 36,
   "metadata": {
    "colab": {
     "base_uri": "https://localhost:8080/"
    },
    "id": "qUqlHS8s6c8M",
    "outputId": "f8c86a55-5b22-4eab-f7dc-cf83f46d7f28"
   },
   "outputs": [
    {
     "data": {
      "text/plain": [
       "array([ 1,  2,  3,  4,  5,  6,  7,  8,  9, 10, 11, 12, 13, 14, 15, 16, 17,\n",
       "       18, 19, 20])"
      ]
     },
     "execution_count": 36,
     "metadata": {},
     "output_type": "execute_result"
    }
   ],
   "source": [
    "a = np.arange(1,21)\n",
    "a"
   ]
  },
  {
   "cell_type": "code",
   "execution_count": 37,
   "metadata": {
    "colab": {
     "base_uri": "https://localhost:8080/"
    },
    "id": "lJC3YVXv2Y4b",
    "outputId": "160a065b-278a-4611-da27-3309f923e940"
   },
   "outputs": [
    {
     "data": {
      "text/plain": [
       "array([[ 1,  2,  3,  4],\n",
       "       [ 5,  6,  7,  8],\n",
       "       [ 9, 10, 11, 12],\n",
       "       [13, 14, 15, 16],\n",
       "       [17, 18, 19, 20]])"
      ]
     },
     "execution_count": 37,
     "metadata": {},
     "output_type": "execute_result"
    }
   ],
   "source": [
    "a.reshape(5,4)"
   ]
  },
  {
   "cell_type": "code",
   "execution_count": 38,
   "metadata": {
    "colab": {
     "base_uri": "https://localhost:8080/"
    },
    "id": "LnaGETw24jDJ",
    "outputId": "8932ebc7-7e7d-42b2-e36a-cda4ab503fdc"
   },
   "outputs": [
    {
     "data": {
      "text/plain": [
       "array([[ 1,  2,  3,  4,  5],\n",
       "       [ 6,  7,  8,  9, 10],\n",
       "       [11, 12, 13, 14, 15],\n",
       "       [16, 17, 18, 19, 20]])"
      ]
     },
     "execution_count": 38,
     "metadata": {},
     "output_type": "execute_result"
    }
   ],
   "source": [
    "a.reshape(4,-1)"
   ]
  },
  {
   "cell_type": "code",
   "execution_count": 39,
   "metadata": {
    "colab": {
     "base_uri": "https://localhost:8080/"
    },
    "id": "AxJyO4ha4jRn",
    "outputId": "11fcdee0-e703-42f1-99f0-487a239016ad"
   },
   "outputs": [
    {
     "data": {
      "text/plain": [
       "array([[ 1,  2,  3,  4],\n",
       "       [ 5,  6,  7,  8],\n",
       "       [ 9, 10, 11, 12],\n",
       "       [13, 14, 15, 16],\n",
       "       [17, 18, 19, 20]])"
      ]
     },
     "execution_count": 39,
     "metadata": {},
     "output_type": "execute_result"
    }
   ],
   "source": [
    "a.reshape(-1,4)"
   ]
  },
  {
   "cell_type": "code",
   "execution_count": 40,
   "metadata": {
    "colab": {
     "base_uri": "https://localhost:8080/"
    },
    "id": "fxckcngZ2j2I",
    "outputId": "7234b357-6b69-4a61-993b-5dc61ae36ad6"
   },
   "outputs": [
    {
     "data": {
      "text/plain": [
       "array([[[ 1,  2],\n",
       "        [ 3,  4]],\n",
       "\n",
       "       [[ 5,  6],\n",
       "        [ 7,  8]],\n",
       "\n",
       "       [[ 9, 10],\n",
       "        [11, 12]],\n",
       "\n",
       "       [[13, 14],\n",
       "        [15, 16]],\n",
       "\n",
       "       [[17, 18],\n",
       "        [19, 20]]])"
      ]
     },
     "execution_count": 40,
     "metadata": {},
     "output_type": "execute_result"
    }
   ],
   "source": [
    "b = a.reshape(5,2,2)\n",
    "b"
   ]
  },
  {
   "cell_type": "code",
   "execution_count": 41,
   "metadata": {
    "colab": {
     "base_uri": "https://localhost:8080/"
    },
    "id": "ztvbpx-u2xHY",
    "outputId": "d9953cdc-420e-4770-b966-eba87bbba290"
   },
   "outputs": [
    {
     "data": {
      "text/plain": [
       "array([ 1,  2,  3,  4,  5,  6,  7,  8,  9, 10, 11, 12, 13, 14, 15, 16, 17,\n",
       "       18, 19, 20])"
      ]
     },
     "execution_count": 41,
     "metadata": {},
     "output_type": "execute_result"
    }
   ],
   "source": [
    "# flatten (make a copy of the orginal data)\n",
    "b1 = b.flatten()\n",
    "b1"
   ]
  },
  {
   "cell_type": "code",
   "execution_count": 42,
   "metadata": {
    "colab": {
     "base_uri": "https://localhost:8080/"
    },
    "id": "vKFrCy9x3QgC",
    "outputId": "e63db14e-4cb7-49e1-fb0d-5d93482072a2"
   },
   "outputs": [
    {
     "data": {
      "text/plain": [
       "array([  1,   2,   3, 300,   5,   6,   7,   8,   9,  10,  11,  12,  13,\n",
       "        14,  15,  16,  17,  18,  19,  20])"
      ]
     },
     "execution_count": 42,
     "metadata": {},
     "output_type": "execute_result"
    }
   ],
   "source": [
    "b1[3] = 300\n",
    "b1"
   ]
  },
  {
   "cell_type": "code",
   "execution_count": 43,
   "metadata": {
    "colab": {
     "base_uri": "https://localhost:8080/"
    },
    "id": "xZhUYapX3WtR",
    "outputId": "de95a97a-5b80-4ffc-ae00-a8f3ad3034c8"
   },
   "outputs": [
    {
     "data": {
      "text/plain": [
       "array([[[ 1,  2],\n",
       "        [ 3,  4]],\n",
       "\n",
       "       [[ 5,  6],\n",
       "        [ 7,  8]],\n",
       "\n",
       "       [[ 9, 10],\n",
       "        [11, 12]],\n",
       "\n",
       "       [[13, 14],\n",
       "        [15, 16]],\n",
       "\n",
       "       [[17, 18],\n",
       "        [19, 20]]])"
      ]
     },
     "execution_count": 43,
     "metadata": {},
     "output_type": "execute_result"
    }
   ],
   "source": [
    "b"
   ]
  },
  {
   "cell_type": "code",
   "execution_count": 44,
   "metadata": {
    "colab": {
     "base_uri": "https://localhost:8080/"
    },
    "id": "uHi_rr4J3Da1",
    "outputId": "a7b571bd-3d71-4768-8464-61e4e0f7b489"
   },
   "outputs": [
    {
     "data": {
      "text/plain": [
       "array([ 1,  2,  3,  4,  5,  6,  7,  8,  9, 10, 11, 12, 13, 14, 15, 16, 17,\n",
       "       18, 19, 20])"
      ]
     },
     "execution_count": 44,
     "metadata": {},
     "output_type": "execute_result"
    }
   ],
   "source": [
    "# ravel (view of original data)\n",
    "b2 = b.ravel()\n",
    "b2"
   ]
  },
  {
   "cell_type": "code",
   "execution_count": 45,
   "metadata": {
    "colab": {
     "base_uri": "https://localhost:8080/"
    },
    "id": "M6w6sz3H3I2B",
    "outputId": "37c05aef-39a2-49be-961a-66fffe8eb1bb"
   },
   "outputs": [
    {
     "data": {
      "text/plain": [
       "array([  1,   2,   3, 400,   5,   6,   7,   8,   9,  10,  11,  12,  13,\n",
       "        14,  15,  16,  17,  18,  19,  20])"
      ]
     },
     "execution_count": 45,
     "metadata": {},
     "output_type": "execute_result"
    }
   ],
   "source": [
    "b2[3] = 400\n",
    "b2"
   ]
  },
  {
   "cell_type": "code",
   "execution_count": 46,
   "metadata": {
    "colab": {
     "base_uri": "https://localhost:8080/"
    },
    "id": "IkxSqXnA3anV",
    "outputId": "922920b3-b356-4785-8f67-43aecf83ffbe"
   },
   "outputs": [
    {
     "data": {
      "text/plain": [
       "array([[[  1,   2],\n",
       "        [  3, 400]],\n",
       "\n",
       "       [[  5,   6],\n",
       "        [  7,   8]],\n",
       "\n",
       "       [[  9,  10],\n",
       "        [ 11,  12]],\n",
       "\n",
       "       [[ 13,  14],\n",
       "        [ 15,  16]],\n",
       "\n",
       "       [[ 17,  18],\n",
       "        [ 19,  20]]])"
      ]
     },
     "execution_count": 46,
     "metadata": {},
     "output_type": "execute_result"
    }
   ],
   "source": [
    "b"
   ]
  },
  {
   "cell_type": "markdown",
   "metadata": {
    "id": "L2foeM_O7T-V"
   },
   "source": [
    "**Changing the data type in numpy array**"
   ]
  },
  {
   "cell_type": "code",
   "execution_count": 47,
   "metadata": {
    "colab": {
     "base_uri": "https://localhost:8080/"
    },
    "id": "YSgO5b0E3fr0",
    "outputId": "743ca159-6460-431e-f99d-c2ddb5895ca8"
   },
   "outputs": [
    {
     "data": {
      "text/plain": [
       "array([[  1,   2,   3, 400,   5],\n",
       "       [  6,   7,   8,   9,  10],\n",
       "       [ 11,  12,  13,  14,  15],\n",
       "       [ 16,  17,  18,  19,  20]])"
      ]
     },
     "execution_count": 47,
     "metadata": {},
     "output_type": "execute_result"
    }
   ],
   "source": [
    "b = a.reshape(4,5)\n",
    "b"
   ]
  },
  {
   "cell_type": "code",
   "execution_count": 48,
   "metadata": {
    "colab": {
     "base_uri": "https://localhost:8080/"
    },
    "id": "h5iSiexR7bjj",
    "outputId": "dac36bfd-4dc7-4e38-e789-7c7bfbb0face"
   },
   "outputs": [
    {
     "data": {
      "text/plain": [
       "dtype('int64')"
      ]
     },
     "execution_count": 48,
     "metadata": {},
     "output_type": "execute_result"
    }
   ],
   "source": [
    "b.dtype"
   ]
  },
  {
   "cell_type": "code",
   "execution_count": 49,
   "metadata": {
    "colab": {
     "base_uri": "https://localhost:8080/"
    },
    "id": "ISnPNWgi7ktq",
    "outputId": "8881e81e-7778-4f17-f75f-c2cb9e9adf64"
   },
   "outputs": [
    {
     "data": {
      "text/plain": [
       "array([[  1.,   2.,   3., 400.,   5.],\n",
       "       [  6.,   7.,   8.,   9.,  10.],\n",
       "       [ 11.,  12.,  13.,  14.,  15.],\n",
       "       [ 16.,  17.,  18.,  19.,  20.]])"
      ]
     },
     "execution_count": 49,
     "metadata": {},
     "output_type": "execute_result"
    }
   ],
   "source": [
    "b.astype(np.float64)"
   ]
  },
  {
   "cell_type": "code",
   "execution_count": 50,
   "metadata": {
    "colab": {
     "base_uri": "https://localhost:8080/"
    },
    "id": "ua9NHXYo7snE",
    "outputId": "70c48006-e746-497a-b52d-b16d5f7271f7"
   },
   "outputs": [
    {
     "data": {
      "text/plain": [
       "array([[1, 2, 3, 400, 5],\n",
       "       [6, 7, 8, 9, 10],\n",
       "       [11, 12, 13, 14, 15],\n",
       "       [16, 17, 18, 19, 20]], dtype=object)"
      ]
     },
     "execution_count": 50,
     "metadata": {},
     "output_type": "execute_result"
    }
   ],
   "source": [
    "b.astype(np.object_)"
   ]
  },
  {
   "cell_type": "code",
   "execution_count": 51,
   "metadata": {
    "colab": {
     "base_uri": "https://localhost:8080/"
    },
    "id": "UOioc7aG7xAp",
    "outputId": "49e69daa-2cb0-438e-df4a-3f745cc423c9"
   },
   "outputs": [
    {
     "data": {
      "text/plain": [
       "array([['1', '2', '3', '400', '5'],\n",
       "       ['6', '7', '8', '9', '10'],\n",
       "       ['11', '12', '13', '14', '15'],\n",
       "       ['16', '17', '18', '19', '20']], dtype='<U21')"
      ]
     },
     "execution_count": 51,
     "metadata": {},
     "output_type": "execute_result"
    }
   ],
   "source": [
    "b.astype(np.str_)"
   ]
  },
  {
   "cell_type": "code",
   "execution_count": 52,
   "metadata": {
    "colab": {
     "base_uri": "https://localhost:8080/"
    },
    "id": "Qg1N8uOb7_kZ",
    "outputId": "4a853cf7-cfe0-4b2e-de39-e5367065011a"
   },
   "outputs": [
    {
     "data": {
      "text/plain": [
       "array([[  1.+0.j,   2.+0.j,   3.+0.j, 400.+0.j,   5.+0.j],\n",
       "       [  6.+0.j,   7.+0.j,   8.+0.j,   9.+0.j,  10.+0.j],\n",
       "       [ 11.+0.j,  12.+0.j,  13.+0.j,  14.+0.j,  15.+0.j],\n",
       "       [ 16.+0.j,  17.+0.j,  18.+0.j,  19.+0.j,  20.+0.j]],\n",
       "      dtype=complex64)"
      ]
     },
     "execution_count": 52,
     "metadata": {},
     "output_type": "execute_result"
    }
   ],
   "source": [
    "b.astype(np.complex64)"
   ]
  },
  {
   "cell_type": "markdown",
   "metadata": {
    "id": "LIPKPJVH8Nhu"
   },
   "source": [
    "**Some mathematical function**\n",
    "- max(), min(), sort(), mean(), median(),cumsum(), cumprod(),  argmax(), argmin()"
   ]
  },
  {
   "cell_type": "code",
   "execution_count": 53,
   "metadata": {
    "colab": {
     "base_uri": "https://localhost:8080/"
    },
    "id": "CnW8vDQ88eJt",
    "outputId": "1ba1ad31-6b53-4939-f024-956843b050b9"
   },
   "outputs": [
    {
     "data": {
      "text/plain": [
       "array([[  1,   2,   3, 400,   5],\n",
       "       [  6,   7,   8,   9,  10],\n",
       "       [ 11,  12,  13,  14,  15],\n",
       "       [ 16,  17,  18,  19,  20]])"
      ]
     },
     "execution_count": 53,
     "metadata": {},
     "output_type": "execute_result"
    }
   ],
   "source": [
    "b"
   ]
  },
  {
   "cell_type": "code",
   "execution_count": 54,
   "metadata": {
    "colab": {
     "base_uri": "https://localhost:8080/"
    },
    "id": "K1fl5SrL8JpA",
    "outputId": "9b7c0005-4dc6-4011-a2c3-17fa21985253"
   },
   "outputs": [
    {
     "data": {
      "text/plain": [
       "30.3"
      ]
     },
     "execution_count": 54,
     "metadata": {},
     "output_type": "execute_result"
    }
   ],
   "source": [
    "b.mean()"
   ]
  },
  {
   "cell_type": "code",
   "execution_count": 55,
   "metadata": {
    "colab": {
     "base_uri": "https://localhost:8080/"
    },
    "id": "rYZ-7bpA8SQN",
    "outputId": "bed683c2-e197-465c-be10-160c30952f5e"
   },
   "outputs": [
    {
     "data": {
      "text/plain": [
       "array([  8.5,   9.5,  10.5, 110.5,  12.5])"
      ]
     },
     "execution_count": 55,
     "metadata": {},
     "output_type": "execute_result"
    }
   ],
   "source": [
    "b.mean(axis = 0)"
   ]
  },
  {
   "cell_type": "code",
   "execution_count": 56,
   "metadata": {
    "colab": {
     "base_uri": "https://localhost:8080/"
    },
    "id": "ndrbsjlC8hPk",
    "outputId": "7192c7fb-0a17-4457-945c-5cc990a3c020"
   },
   "outputs": [
    {
     "data": {
      "text/plain": [
       "array([82.2,  8. , 13. , 18. ])"
      ]
     },
     "execution_count": 56,
     "metadata": {},
     "output_type": "execute_result"
    }
   ],
   "source": [
    "b.mean(1)"
   ]
  },
  {
   "cell_type": "markdown",
   "metadata": {
    "id": "uk3WPkk4BOtE"
   },
   "source": [
    "**Board Casting**"
   ]
  },
  {
   "cell_type": "code",
   "execution_count": 57,
   "metadata": {
    "colab": {
     "base_uri": "https://localhost:8080/"
    },
    "id": "6FGkZaS48mXo",
    "outputId": "afda410a-315b-4143-fe72-a93da1e3dc35"
   },
   "outputs": [
    {
     "data": {
      "text/plain": [
       "array([[  1,   2,   3, 400,   5],\n",
       "       [  6,   7,   8,   9,  10],\n",
       "       [ 11,  12,  13,  14,  15],\n",
       "       [ 16,  17,  18,  19,  20]])"
      ]
     },
     "execution_count": 57,
     "metadata": {},
     "output_type": "execute_result"
    }
   ],
   "source": [
    "b"
   ]
  },
  {
   "cell_type": "code",
   "execution_count": 58,
   "metadata": {
    "colab": {
     "base_uri": "https://localhost:8080/"
    },
    "id": "PXGf89kFBRfy",
    "outputId": "27096bc9-fdcc-4d35-84e6-53eea1b43f77"
   },
   "outputs": [
    {
     "data": {
      "text/plain": [
       "array([[  5,   6,   7, 404,   9],\n",
       "       [ 10,  11,  12,  13,  14],\n",
       "       [ 15,  16,  17,  18,  19],\n",
       "       [ 20,  21,  22,  23,  24]])"
      ]
     },
     "execution_count": 58,
     "metadata": {},
     "output_type": "execute_result"
    }
   ],
   "source": [
    "b + 4"
   ]
  },
  {
   "cell_type": "code",
   "execution_count": 59,
   "metadata": {
    "colab": {
     "base_uri": "https://localhost:8080/"
    },
    "id": "8i1xdnP_BTm-",
    "outputId": "8e879edc-a8a4-4e3d-d3aa-d815e0ca7a33"
   },
   "outputs": [
    {
     "data": {
      "text/plain": [
       "array([[  10,   20,   30, 4000,   50],\n",
       "       [  60,   70,   80,   90,  100],\n",
       "       [ 110,  120,  130,  140,  150],\n",
       "       [ 160,  170,  180,  190,  200]])"
      ]
     },
     "execution_count": 59,
     "metadata": {},
     "output_type": "execute_result"
    }
   ],
   "source": [
    "b * 10"
   ]
  },
  {
   "cell_type": "code",
   "execution_count": 60,
   "metadata": {
    "colab": {
     "base_uri": "https://localhost:8080/"
    },
    "id": "COHE6xcaBWBo",
    "outputId": "f60bccc0-58a0-46be-fa8a-4ac87f8955ac"
   },
   "outputs": [
    {
     "data": {
      "text/plain": [
       "array([[  0.5,   1. ,   1.5, 200. ,   2.5],\n",
       "       [  3. ,   3.5,   4. ,   4.5,   5. ],\n",
       "       [  5.5,   6. ,   6.5,   7. ,   7.5],\n",
       "       [  8. ,   8.5,   9. ,   9.5,  10. ]])"
      ]
     },
     "execution_count": 60,
     "metadata": {},
     "output_type": "execute_result"
    }
   ],
   "source": [
    " b/2 "
   ]
  },
  {
   "cell_type": "markdown",
   "metadata": {
    "id": "wMMPWYyYBd-N"
   },
   "source": [
    "**Mathematical Operation with array**\n"
   ]
  },
  {
   "cell_type": "code",
   "execution_count": 61,
   "metadata": {
    "colab": {
     "base_uri": "https://localhost:8080/"
    },
    "id": "F3PtGTQMBVgR",
    "outputId": "d2465bd0-9724-4ecf-c2f6-b2bf1c47a5a9"
   },
   "outputs": [
    {
     "data": {
      "text/plain": [
       "array([[2, 6],\n",
       "       [7, 4]])"
      ]
     },
     "execution_count": 61,
     "metadata": {},
     "output_type": "execute_result"
    }
   ],
   "source": [
    "a = np.array([[2,6],[7,4]])\n",
    "b = np.array([[1,3],[5,6]])\n",
    "a"
   ]
  },
  {
   "cell_type": "code",
   "execution_count": 62,
   "metadata": {
    "colab": {
     "base_uri": "https://localhost:8080/"
    },
    "id": "OYK2GAn8BpL0",
    "outputId": "5c44ab09-046d-455b-f681-b62e484ce115"
   },
   "outputs": [
    {
     "data": {
      "text/plain": [
       "array([[1, 3],\n",
       "       [5, 6]])"
      ]
     },
     "execution_count": 62,
     "metadata": {},
     "output_type": "execute_result"
    }
   ],
   "source": [
    "b"
   ]
  },
  {
   "cell_type": "code",
   "execution_count": 63,
   "metadata": {
    "colab": {
     "base_uri": "https://localhost:8080/"
    },
    "id": "P4pdoSdfBv99",
    "outputId": "bfbcb201-67d4-4ac8-fedb-dc8ba8bbc1cb"
   },
   "outputs": [
    {
     "data": {
      "text/plain": [
       "array([[ 3,  9],\n",
       "       [12, 10]])"
      ]
     },
     "execution_count": 63,
     "metadata": {},
     "output_type": "execute_result"
    }
   ],
   "source": [
    "a + b "
   ]
  },
  {
   "cell_type": "code",
   "execution_count": 64,
   "metadata": {
    "colab": {
     "base_uri": "https://localhost:8080/"
    },
    "id": "o7NSO0cNBzDZ",
    "outputId": "eacc091b-dfd0-40c2-f02d-042ce0793c33"
   },
   "outputs": [
    {
     "data": {
      "text/plain": [
       "array([[-1, -3],\n",
       "       [-2,  2]])"
      ]
     },
     "execution_count": 64,
     "metadata": {},
     "output_type": "execute_result"
    }
   ],
   "source": [
    "b -a"
   ]
  },
  {
   "cell_type": "code",
   "execution_count": 65,
   "metadata": {
    "colab": {
     "base_uri": "https://localhost:8080/"
    },
    "id": "iBe7Cls2B0RW",
    "outputId": "cd636419-02f0-4e78-f559-b9768dba8b1d"
   },
   "outputs": [
    {
     "data": {
      "text/plain": [
       "array([[False,  True],\n",
       "       [ True,  True]])"
      ]
     },
     "execution_count": 65,
     "metadata": {},
     "output_type": "execute_result"
    }
   ],
   "source": [
    "a > 2"
   ]
  },
  {
   "cell_type": "code",
   "execution_count": 66,
   "metadata": {
    "colab": {
     "base_uri": "https://localhost:8080/"
    },
    "id": "p86uLx61B2zq",
    "outputId": "3474745a-1b5e-428b-d6e3-aaa88d56e2bc"
   },
   "outputs": [
    {
     "data": {
      "text/plain": [
       "array([6, 7])"
      ]
     },
     "execution_count": 66,
     "metadata": {},
     "output_type": "execute_result"
    }
   ],
   "source": [
    "# filtering\n",
    "a[a > 4]"
   ]
  },
  {
   "cell_type": "markdown",
   "metadata": {
    "id": "kh3Omv9kCLTa"
   },
   "source": [
    "**Stacking**\n",
    "- stack()\n",
    "- vstack()\n",
    "- hstack()"
   ]
  },
  {
   "cell_type": "code",
   "execution_count": 67,
   "metadata": {
    "colab": {
     "base_uri": "https://localhost:8080/"
    },
    "id": "5-zq3CueB7Nu",
    "outputId": "ad92fac3-1ea6-4a03-fb29-45b49ddb8713"
   },
   "outputs": [
    {
     "data": {
      "text/plain": [
       "array([[2, 6],\n",
       "       [7, 4]])"
      ]
     },
     "execution_count": 67,
     "metadata": {},
     "output_type": "execute_result"
    }
   ],
   "source": [
    "a"
   ]
  },
  {
   "cell_type": "code",
   "execution_count": 68,
   "metadata": {
    "colab": {
     "base_uri": "https://localhost:8080/"
    },
    "id": "jB8wcZPACS4v",
    "outputId": "006d526b-358e-4c7b-8dac-64471d56f061"
   },
   "outputs": [
    {
     "data": {
      "text/plain": [
       "array([[1, 3],\n",
       "       [5, 6]])"
      ]
     },
     "execution_count": 68,
     "metadata": {},
     "output_type": "execute_result"
    }
   ],
   "source": [
    "b"
   ]
  },
  {
   "cell_type": "code",
   "execution_count": 69,
   "metadata": {
    "colab": {
     "base_uri": "https://localhost:8080/"
    },
    "id": "poLY6W4_CTKP",
    "outputId": "259250e0-c584-4507-da91-8f3365b7cce0"
   },
   "outputs": [
    {
     "data": {
      "text/plain": [
       "array([[[2, 6],\n",
       "        [7, 4]],\n",
       "\n",
       "       [[1, 3],\n",
       "        [5, 6]]])"
      ]
     },
     "execution_count": 69,
     "metadata": {},
     "output_type": "execute_result"
    }
   ],
   "source": [
    "c1 = np.stack([a,b])\n",
    "c1"
   ]
  },
  {
   "cell_type": "code",
   "execution_count": 70,
   "metadata": {
    "colab": {
     "base_uri": "https://localhost:8080/"
    },
    "id": "1huKp07XCX3U",
    "outputId": "f59d94b5-aff2-45f1-acf8-417bd4c880db"
   },
   "outputs": [
    {
     "data": {
      "text/plain": [
       "(2, 2, 2)"
      ]
     },
     "execution_count": 70,
     "metadata": {},
     "output_type": "execute_result"
    }
   ],
   "source": [
    "c1.shape"
   ]
  },
  {
   "cell_type": "code",
   "execution_count": 71,
   "metadata": {
    "colab": {
     "base_uri": "https://localhost:8080/"
    },
    "id": "P-VvRqRnCm8g",
    "outputId": "86db96c0-64bb-4e84-f8e6-234e4bb5c687"
   },
   "outputs": [
    {
     "data": {
      "text/plain": [
       "array([[2, 6],\n",
       "       [7, 4],\n",
       "       [1, 3],\n",
       "       [5, 6]])"
      ]
     },
     "execution_count": 71,
     "metadata": {},
     "output_type": "execute_result"
    }
   ],
   "source": [
    "# vstack\n",
    "c2 = np.vstack((a,b))\n",
    "c2"
   ]
  },
  {
   "cell_type": "code",
   "execution_count": 72,
   "metadata": {
    "colab": {
     "base_uri": "https://localhost:8080/"
    },
    "id": "fcjCcqB9CrrX",
    "outputId": "272165f7-8047-46f3-a627-248e54bc7062"
   },
   "outputs": [
    {
     "data": {
      "text/plain": [
       "(4, 2)"
      ]
     },
     "execution_count": 72,
     "metadata": {},
     "output_type": "execute_result"
    }
   ],
   "source": [
    "c2.shape"
   ]
  },
  {
   "cell_type": "code",
   "execution_count": 73,
   "metadata": {
    "colab": {
     "base_uri": "https://localhost:8080/"
    },
    "id": "nUoSy99gCtb8",
    "outputId": "fe919f06-46d5-4732-ca6a-af20f1581f02"
   },
   "outputs": [
    {
     "data": {
      "text/plain": [
       "array([[2, 6, 1, 3],\n",
       "       [7, 4, 5, 6]])"
      ]
     },
     "execution_count": 73,
     "metadata": {},
     "output_type": "execute_result"
    }
   ],
   "source": [
    "# hstack()\n",
    "np.hstack([a,b])"
   ]
  },
  {
   "cell_type": "markdown",
   "metadata": {
    "id": "UKZ1APY5C94v"
   },
   "source": [
    "**dot product**"
   ]
  },
  {
   "cell_type": "code",
   "execution_count": 76,
   "metadata": {
    "id": "Z_q_0T3FC5UE"
   },
   "outputs": [],
   "source": [
    "a = np.array([3,2,1])\n",
    "b = np.array([-1,-2,4])"
   ]
  },
  {
   "cell_type": "code",
   "execution_count": 77,
   "metadata": {
    "colab": {
     "base_uri": "https://localhost:8080/"
    },
    "id": "Q-Mo0ojQDGBV",
    "outputId": "a5150a6c-c97f-4407-b271-cecd84182df7"
   },
   "outputs": [
    {
     "data": {
      "text/plain": [
       "-3"
      ]
     },
     "execution_count": 77,
     "metadata": {},
     "output_type": "execute_result"
    }
   ],
   "source": [
    "# \n",
    "np.dot(a,b)"
   ]
  },
  {
   "cell_type": "code",
   "execution_count": 78,
   "metadata": {
    "colab": {
     "base_uri": "https://localhost:8080/"
    },
    "id": "x8-FRwO8DQuC",
    "outputId": "3e9f7a79-7893-4288-edf4-87e74ec9b8c9"
   },
   "outputs": [
    {
     "data": {
      "text/plain": [
       "-3"
      ]
     },
     "execution_count": 78,
     "metadata": {},
     "output_type": "execute_result"
    }
   ],
   "source": [
    "a @ b"
   ]
  },
  {
   "cell_type": "code",
   "execution_count": 79,
   "metadata": {
    "colab": {
     "base_uri": "https://localhost:8080/"
    },
    "id": "LD6ZOHlUDT-S",
    "outputId": "ae52f840-dbfe-4287-945f-6d2f8dd66f17"
   },
   "outputs": [
    {
     "data": {
      "text/plain": [
       "-3"
      ]
     },
     "execution_count": 79,
     "metadata": {},
     "output_type": "execute_result"
    }
   ],
   "source": [
    "a.dot(b)"
   ]
  },
  {
   "cell_type": "code",
   "execution_count": 81,
   "metadata": {
    "colab": {
     "base_uri": "https://localhost:8080/"
    },
    "id": "iWBMht7NDY5D",
    "outputId": "d335d12a-0592-4c3a-a95b-4edbfcf6e91c"
   },
   "outputs": [
    {
     "data": {
      "text/plain": [
       "array([[1, 2],\n",
       "       [6, 1],\n",
       "       [7, 6]])"
      ]
     },
     "execution_count": 81,
     "metadata": {},
     "output_type": "execute_result"
    }
   ],
   "source": [
    "# in 2d \n",
    "x = np.array([[3,2,1],[6,2,4]])\n",
    "y = np.array([[1,2],[6,1],[7,6]])\n",
    "y"
   ]
  },
  {
   "cell_type": "code",
   "execution_count": 83,
   "metadata": {
    "colab": {
     "base_uri": "https://localhost:8080/"
    },
    "id": "sFMAWLWCDigm",
    "outputId": "e09a3f02-5191-4967-c594-7116b829515e"
   },
   "outputs": [
    {
     "data": {
      "text/plain": [
       "array([[22, 14],\n",
       "       [46, 38]])"
      ]
     },
     "execution_count": 83,
     "metadata": {},
     "output_type": "execute_result"
    }
   ],
   "source": [
    "x @ y"
   ]
  },
  {
   "cell_type": "code",
   "execution_count": 85,
   "metadata": {
    "colab": {
     "base_uri": "https://localhost:8080/"
    },
    "id": "Yn_54bDNDuvP",
    "outputId": "15113733-8c5c-4f05-c9ed-ab4a3d8f35da"
   },
   "outputs": [
    {
     "data": {
      "text/plain": [
       "array([[22, 14],\n",
       "       [46, 38]])"
      ]
     },
     "execution_count": 85,
     "metadata": {},
     "output_type": "execute_result"
    }
   ],
   "source": [
    "np.dot(x,y)"
   ]
  },
  {
   "cell_type": "markdown",
   "metadata": {
    "id": "cTzCKNTeHtcE"
   },
   "source": [
    "**Linear Algebra with numpy**"
   ]
  },
  {
   "cell_type": "code",
   "execution_count": 87,
   "metadata": {
    "colab": {
     "base_uri": "https://localhost:8080/"
    },
    "id": "DOYuf4ywD8kj",
    "outputId": "5adc1dfa-d819-4395-cfca-b8c410c4aec0"
   },
   "outputs": [
    {
     "data": {
      "text/plain": [
       "array([[2, 4],\n",
       "       [6, 1]])"
      ]
     },
     "execution_count": 87,
     "metadata": {},
     "output_type": "execute_result"
    }
   ],
   "source": [
    "from numpy import linalg as lg\n",
    "a = np.array([[2,4],[6,1]])\n",
    "a"
   ]
  },
  {
   "cell_type": "code",
   "execution_count": 88,
   "metadata": {
    "colab": {
     "base_uri": "https://localhost:8080/"
    },
    "id": "cv8u3Wp7H7Or",
    "outputId": "1e89b227-d09c-4a37-d367-3e8a529dacb3"
   },
   "outputs": [
    {
     "data": {
      "text/plain": [
       "array([[-0.04545455,  0.18181818],\n",
       "       [ 0.27272727, -0.09090909]])"
      ]
     },
     "execution_count": 88,
     "metadata": {},
     "output_type": "execute_result"
    }
   ],
   "source": [
    "# inv() --> inverse\n",
    "lg.inv(a)"
   ]
  },
  {
   "cell_type": "code",
   "execution_count": 89,
   "metadata": {
    "colab": {
     "base_uri": "https://localhost:8080/"
    },
    "id": "1ZYQmvQ-IO3R",
    "outputId": "8c817b46-fe0b-4c60-f111-3cf183754db0"
   },
   "outputs": [
    {
     "data": {
      "text/plain": [
       "-22.000000000000004"
      ]
     },
     "execution_count": 89,
     "metadata": {},
     "output_type": "execute_result"
    }
   ],
   "source": [
    "# determint\n",
    "lg.det(a)"
   ]
  },
  {
   "cell_type": "code",
   "execution_count": 91,
   "metadata": {
    "colab": {
     "base_uri": "https://localhost:8080/"
    },
    "id": "wEOWgV8FISDD",
    "outputId": "881f84cc-7ee3-49c6-a2b9-0fb36a75f847"
   },
   "outputs": [
    {
     "data": {
      "text/plain": [
       "3"
      ]
     },
     "execution_count": 91,
     "metadata": {},
     "output_type": "execute_result"
    }
   ],
   "source": [
    "np.trace(a)"
   ]
  },
  {
   "cell_type": "code",
   "execution_count": 92,
   "metadata": {
    "colab": {
     "base_uri": "https://localhost:8080/"
    },
    "id": "if7A4CHWIdNa",
    "outputId": "8b9a8b27-a87a-4568-dc9b-f68396b9ad2e"
   },
   "outputs": [
    {
     "data": {
      "text/plain": [
       "array([2, 1])"
      ]
     },
     "execution_count": 92,
     "metadata": {},
     "output_type": "execute_result"
    }
   ],
   "source": [
    "np.diag(a)"
   ]
  },
  {
   "cell_type": "code",
   "execution_count": 94,
   "metadata": {
    "colab": {
     "base_uri": "https://localhost:8080/"
    },
    "id": "E__-0q7EIkrq",
    "outputId": "98877004-7873-4157-8578-44a5a4d72c1c"
   },
   "outputs": [
    {
     "name": "stdout",
     "output_type": "stream",
     "text": [
      "(array([ 6.4244289, -3.4244289]), array([[ 0.67063166, -0.59349252],\n",
      "       [ 0.74179052,  0.8048395 ]]))\n"
     ]
    }
   ],
   "source": [
    "print(lg.eig(a))"
   ]
  },
  {
   "cell_type": "code",
   "execution_count": 95,
   "metadata": {
    "colab": {
     "base_uri": "https://localhost:8080/"
    },
    "id": "_sCy3LKsIorK",
    "outputId": "cf251bb9-c789-476a-bf09-5fcc562e7948"
   },
   "outputs": [
    {
     "data": {
      "text/plain": [
       "array([[-0.04545455,  0.18181818],\n",
       "       [ 0.27272727, -0.09090909]])"
      ]
     },
     "execution_count": 95,
     "metadata": {},
     "output_type": "execute_result"
    }
   ],
   "source": [
    "# pinv\n",
    "lg.pinv(a)"
   ]
  },
  {
   "cell_type": "markdown",
   "metadata": {
    "id": "w69j5yVlI4UU"
   },
   "source": [
    "**random function with numpy**"
   ]
  },
  {
   "cell_type": "code",
   "execution_count": 96,
   "metadata": {
    "id": "VYrwIDPGIze9"
   },
   "outputs": [],
   "source": [
    "from numpy import random as nrd"
   ]
  },
  {
   "cell_type": "code",
   "execution_count": 99,
   "metadata": {
    "colab": {
     "base_uri": "https://localhost:8080/"
    },
    "id": "8nBUq3ocJDoB",
    "outputId": "e782d48d-9553-463b-be11-d9fcb62f9328"
   },
   "outputs": [
    {
     "data": {
      "text/plain": [
       "array([[0.31250645, 0.83894209, 0.99608754],\n",
       "       [0.29364639, 0.72762059, 0.88557244],\n",
       "       [0.94156046, 0.88081833, 0.46838141]])"
      ]
     },
     "execution_count": 99,
     "metadata": {},
     "output_type": "execute_result"
    }
   ],
   "source": [
    "nrd.random(size = (3,3))"
   ]
  },
  {
   "cell_type": "code",
   "execution_count": 104,
   "metadata": {
    "colab": {
     "base_uri": "https://localhost:8080/"
    },
    "id": "QRRZmqOVJGHp",
    "outputId": "84445e67-4e15-416c-c4da-b2221583c1fc"
   },
   "outputs": [
    {
     "data": {
      "text/plain": [
       "array([[4, 4, 6, 2],\n",
       "       [1, 9, 8, 1],\n",
       "       [3, 6, 8, 5]])"
      ]
     },
     "execution_count": 104,
     "metadata": {},
     "output_type": "execute_result"
    }
   ],
   "source": [
    "nrd.randint(1,10, size = (3,4))"
   ]
  },
  {
   "cell_type": "code",
   "execution_count": 107,
   "metadata": {
    "colab": {
     "base_uri": "https://localhost:8080/"
    },
    "id": "M0XJm2jTJOSm",
    "outputId": "61ca23d3-c315-44ed-8cda-f14ceabeb542"
   },
   "outputs": [
    {
     "data": {
      "text/plain": [
       "array([[4.95397482, 1.67301818, 5.78763015, 4.23700021],\n",
       "       [2.99240925, 4.76108229, 1.79340698, 2.29369881],\n",
       "       [2.04778373, 3.69494634, 3.30860583, 3.72184328],\n",
       "       [2.26645794, 5.94369513, 2.62680714, 4.11194734]])"
      ]
     },
     "execution_count": 107,
     "metadata": {},
     "output_type": "execute_result"
    }
   ],
   "source": [
    "nrd.uniform(1,6, size = (4,4))"
   ]
  },
  {
   "cell_type": "code",
   "execution_count": 114,
   "metadata": {
    "colab": {
     "base_uri": "https://localhost:8080/"
    },
    "id": "cVqniPJxJa9k",
    "outputId": "a157f521-a0fa-4330-c5aa-0682e9aa08b3"
   },
   "outputs": [
    {
     "data": {
      "text/plain": [
       "array([[ 6.61952827,  3.75060459,  3.387589  ,  8.20541163],\n",
       "       [ 3.93949841, -1.52592406,  2.04685816,  5.27968023],\n",
       "       [ 2.78989357,  6.09607344,  0.7377483 ,  7.45418926],\n",
       "       [-0.13561512,  3.38316936,  3.16102084,  5.88098968]])"
      ]
     },
     "execution_count": 114,
     "metadata": {},
     "output_type": "execute_result"
    }
   ],
   "source": [
    "# creating random normal with specific mean and standard devision\n",
    "Mean = 4\n",
    "Std = 3\n",
    "nrd.normal(loc =Mean, scale = Std, size = (4,4) )"
   ]
  },
  {
   "cell_type": "code",
   "execution_count": 112,
   "metadata": {
    "colab": {
     "base_uri": "https://localhost:8080/"
    },
    "id": "fz1j2KszJjJ7",
    "outputId": "1cfc5091-41ac-494c-f6b2-f8f343422736"
   },
   "outputs": [
    {
     "data": {
      "text/plain": [
       "2"
      ]
     },
     "execution_count": 112,
     "metadata": {},
     "output_type": "execute_result"
    }
   ],
   "source": [
    "nrd.choice(a.flatten())"
   ]
  },
  {
   "cell_type": "code",
   "execution_count": 127,
   "metadata": {
    "colab": {
     "base_uri": "https://localhost:8080/"
    },
    "id": "YCCaST4oJuPH",
    "outputId": "20eec6cc-7d83-4e17-84f3-44c08530fe77"
   },
   "outputs": [
    {
     "data": {
      "text/plain": [
       "4.012667442297783"
      ]
     },
     "execution_count": 127,
     "metadata": {},
     "output_type": "execute_result"
    }
   ],
   "source": [
    "d = nrd.normal(loc =Mean, scale = Std, size = (400,10) )\n",
    "d.mean()"
   ]
  },
  {
   "cell_type": "code",
   "execution_count": 128,
   "metadata": {
    "colab": {
     "base_uri": "https://localhost:8080/"
    },
    "id": "3ccmjCL9K_tg",
    "outputId": "b4cd2ff6-53be-4c63-e955-a1177e32bd34"
   },
   "outputs": [
    {
     "data": {
      "text/plain": [
       "2.968649709268938"
      ]
     },
     "execution_count": 128,
     "metadata": {},
     "output_type": "execute_result"
    }
   ],
   "source": [
    "d.std()"
   ]
  },
  {
   "cell_type": "code",
   "execution_count": 131,
   "metadata": {
    "colab": {
     "base_uri": "https://localhost:8080/",
     "height": 265
    },
    "id": "WUnm91_gLHpY",
    "outputId": "69fd3d37-d2fb-4962-c82f-4ee48e2992b5"
   },
   "outputs": [
    {
     "data": {
      "image/png": "[encoded data removed]",
      "text/plain": [
       "<Figure size 432x288 with 1 Axes>"
      ]
     },
     "metadata": {
      "needs_background": "light"
     },
     "output_type": "display_data"
    }
   ],
   "source": [
    "import seaborn as sns\n",
    "\n",
    "sns.histplot(d.flatten(), bins = 50);"
   ]
  },
  {
   "cell_type": "code",
   "execution_count": 130,
   "metadata": {
    "colab": {
     "base_uri": "https://localhost:8080/",
     "height": 265
    },
    "id": "Bsn3GxkRLdZ4",
    "outputId": "51e68935-4786-4948-c2b5-248c123b3562"
   },
   "outputs": [
    {
     "data": {
      "image/png": "[encoded data removed]",
      "text/plain": [
       "<Figure size 432x288 with 1 Axes>"
      ]
     },
     "metadata": {
      "needs_background": "light"
     },
     "output_type": "display_data"
    }
   ],
   "source": [
    "import warnings\n",
    "warnings.filterwarnings('ignore')\n",
    "sns.distplot(d.flatten(), bins = 50);"
   ]
  },
  {
   "cell_type": "markdown",
   "metadata": {
    "id": "nnJ930YxMPwt"
   },
   "source": [
    "**I/O numpy array**"
   ]
  },
  {
   "cell_type": "code",
   "execution_count": 133,
   "metadata": {
    "id": "8OIGony0LpBQ"
   },
   "outputs": [],
   "source": [
    "# saving a numpy array\n",
    "np.save(\"num_data\",d)"
   ]
  },
  {
   "cell_type": "code",
   "execution_count": 135,
   "metadata": {
    "colab": {
     "base_uri": "https://localhost:8080/"
    },
    "id": "uJJG06YZMNqo",
    "outputId": "d6c9d39b-c6a2-411f-aa68-b3e8ef1427e8"
   },
   "outputs": [
    {
     "data": {
      "text/plain": [
       "(400, 10)"
      ]
     },
     "execution_count": 135,
     "metadata": {},
     "output_type": "execute_result"
    }
   ],
   "source": [
    "# loading npy file\n",
    "b = np.load(\"/content/num_data.npy\")\n",
    "b.shape"
   ]
  },
  {
   "cell_type": "code",
   "execution_count": 137,
   "metadata": {
    "colab": {
     "base_uri": "https://localhost:8080/"
    },
    "id": "NKtSFVkQMomG",
    "outputId": "f593e8bf-ee74-4e19-df73-7ee0c65e4113"
   },
   "outputs": [
    {
     "data": {
      "text/plain": [
       "array([[13, 12, 14, 14],\n",
       "       [13, 14, 12, 13],\n",
       "       [12, 10, 10, 11]], dtype=int32)"
      ]
     },
     "execution_count": 137,
     "metadata": {},
     "output_type": "execute_result"
    }
   ],
   "source": [
    "np.load('/content/new.npy')"
   ]
  },
  {
   "cell_type": "code",
   "execution_count": null,
   "metadata": {
    "id": "aGIhkpqON2Dk"
   },
   "outputs": [],
   "source": []
  }
 ],
 "metadata": {
  "colab": {
   "provenance": []
  },
  "kernelspec": {
   "display_name": "Python 3 (ipykernel)",
   "language": "python",
   "name": "python3"
  },
  "language_info": {
   "codemirror_mode": {
    "name": "ipython",
    "version": 3
   },
   "file_extension": ".py",
   "mimetype": "text/x-python",
   "name": "python",
   "nbconvert_exporter": "python",
   "pygments_lexer": "ipython3",
   "version": "3.9.13"
  }
 },
 "nbformat": 4,
 "nbformat_minor": 1
}
